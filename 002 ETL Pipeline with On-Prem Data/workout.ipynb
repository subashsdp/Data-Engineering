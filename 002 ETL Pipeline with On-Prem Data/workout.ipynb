{
 "cells": [
  {
   "cell_type": "code",
   "execution_count": 19,
   "metadata": {},
   "outputs": [],
   "source": [
    "import pandas as pd\n",
    "import sqlalchemy\n",
    "\n",
    "server = 'localhost' \n",
    "database = 'postgres'  \n",
    "username = 'postgres'  \n",
    "password = 'postgres'  \n",
    "port = '5432' \n",
    "engine = sqlalchemy.create_engine(f\"postgresql://{username}:{password}@{server}:{port}/{database}\")\n",
    "\n",
    "schema = 'public'\n",
    "table1 = 'devices'\n",
    "\n",
    "query = f\"SELECT * FROM {schema}.{table1}\"\n",
    "\n",
    "df = pd.read_sql(query, engine)\n",
    "\n",
    "df.to_csv(f'{schema}_{table1}.csv')\n"
   ]
  }
 ],
 "metadata": {
  "kernelspec": {
   "display_name": "Python 3",
   "language": "python",
   "name": "python3"
  },
  "language_info": {
   "codemirror_mode": {
    "name": "ipython",
    "version": 3
   },
   "file_extension": ".py",
   "mimetype": "text/x-python",
   "name": "python",
   "nbconvert_exporter": "python",
   "pygments_lexer": "ipython3",
   "version": "3.12.7"
  }
 },
 "nbformat": 4,
 "nbformat_minor": 2
}
