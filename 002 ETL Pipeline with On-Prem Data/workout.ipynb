{
 "cells": [
  {
   "cell_type": "markdown",
   "metadata": {},
   "source": [
    "### Test Connection"
   ]
  },
  {
   "cell_type": "code",
   "execution_count": 40,
   "metadata": {},
   "outputs": [
    {
     "name": "stdout",
     "output_type": "stream",
     "text": [
      "Connection successful: ('parcel', datetime.date(2024, 7, 3), datetime.time(11, 24, 53), 'completed', 'Rajajinagar Quarters', 'Peenya Track', datetime.timedelta(0), 'RD6253444012084127', Decimal('15.36'), Decimal('536.72'), Decimal('45.50'), Decimal('582.22'), 'QR scan')\n"
     ]
    }
   ],
   "source": [
    "import psycopg2\n",
    "\n",
    "# Define connection parameters\n",
    "server = 'localhost'  # Your PostgreSQL server address (or IP)\n",
    "database = 'postgres'  # Your PostgreSQL database name\n",
    "username = 'postgres'  # Your PostgreSQL username\n",
    "password = 'postgres'  # Your PostgreSQL password\n",
    "port = '5432'  # Default PostgreSQL port\n",
    "\n",
    "# Create a connection to the PostgreSQL database\n",
    "try:\n",
    "    connection = psycopg2.connect(\n",
    "        host=server,\n",
    "        database=database,\n",
    "        user=username,\n",
    "        password=password,\n",
    "        port=port\n",
    "    )\n",
    "\n",
    "    # Create a cursor object\n",
    "    cursor = connection.cursor()\n",
    "\n",
    "    # Test connection by running a simple query\n",
    "    cursor.execute(\"SELECT * from rides order by 1 desc;\")\n",
    "    result = cursor.fetchone()\n",
    "    print(\"Connection successful:\", result)\n",
    "\n",
    "    # Close cursor and connection\n",
    "    cursor.close()\n",
    "    connection.close()\n",
    "\n",
    "except Exception as e:\n",
    "    print(f\"Connection failed: {e}\")\n"
   ]
  },
  {
   "cell_type": "code",
   "execution_count": 39,
   "metadata": {},
   "outputs": [
    {
     "data": {
      "text/html": [
       "<div>\n",
       "<style scoped>\n",
       "    .dataframe tbody tr th:only-of-type {\n",
       "        vertical-align: middle;\n",
       "    }\n",
       "\n",
       "    .dataframe tbody tr th {\n",
       "        vertical-align: top;\n",
       "    }\n",
       "\n",
       "    .dataframe thead th {\n",
       "        text-align: right;\n",
       "    }\n",
       "</style>\n",
       "<table border=\"1\" class=\"dataframe\">\n",
       "  <thead>\n",
       "    <tr style=\"text-align: right;\">\n",
       "      <th></th>\n",
       "      <th>services</th>\n",
       "      <th>date</th>\n",
       "      <th>time</th>\n",
       "      <th>ride_status</th>\n",
       "      <th>source</th>\n",
       "      <th>destination</th>\n",
       "      <th>duration</th>\n",
       "      <th>ride_id</th>\n",
       "      <th>distance</th>\n",
       "      <th>ride_charge</th>\n",
       "      <th>misc_charge</th>\n",
       "      <th>total_fare</th>\n",
       "      <th>payment_method</th>\n",
       "    </tr>\n",
       "  </thead>\n",
       "  <tbody>\n",
       "    <tr>\n",
       "      <th>0</th>\n",
       "      <td>cab economy</td>\n",
       "      <td>2024-07-15</td>\n",
       "      <td>08:30:40</td>\n",
       "      <td>completed</td>\n",
       "      <td>Balagere Harbor</td>\n",
       "      <td>Harohalli Nagar</td>\n",
       "      <td>0 days 00:00:00</td>\n",
       "      <td>RD3161218751875354</td>\n",
       "      <td>27.21</td>\n",
       "      <td>764.83</td>\n",
       "      <td>31.51</td>\n",
       "      <td>796.34</td>\n",
       "      <td>Amazon Pay</td>\n",
       "    </tr>\n",
       "    <tr>\n",
       "      <th>1</th>\n",
       "      <td>auto</td>\n",
       "      <td>2024-07-05</td>\n",
       "      <td>23:36:51</td>\n",
       "      <td>completed</td>\n",
       "      <td>Basavanagudi 3rd Block</td>\n",
       "      <td>Bikasipura 1st Stage</td>\n",
       "      <td>0 days 00:01:00</td>\n",
       "      <td>RD8171514284594096</td>\n",
       "      <td>34.03</td>\n",
       "      <td>314.83</td>\n",
       "      <td>49.52</td>\n",
       "      <td>364.35</td>\n",
       "      <td>Paytm</td>\n",
       "    </tr>\n",
       "    <tr>\n",
       "      <th>2</th>\n",
       "      <td>auto</td>\n",
       "      <td>2024-07-23</td>\n",
       "      <td>11:05:37</td>\n",
       "      <td>cancelled</td>\n",
       "      <td>Babusapalya Cove</td>\n",
       "      <td>Kothaguda Terrace</td>\n",
       "      <td>0 days 00:00:00</td>\n",
       "      <td>RD9376481122237926</td>\n",
       "      <td>20.24</td>\n",
       "      <td>NaN</td>\n",
       "      <td>NaN</td>\n",
       "      <td>NaN</td>\n",
       "      <td>nan</td>\n",
       "    </tr>\n",
       "  </tbody>\n",
       "</table>\n",
       "</div>"
      ],
      "text/plain": [
       "      services        date      time ride_status                  source  \\\n",
       "0  cab economy  2024-07-15  08:30:40   completed         Balagere Harbor   \n",
       "1         auto  2024-07-05  23:36:51   completed  Basavanagudi 3rd Block   \n",
       "2         auto  2024-07-23  11:05:37   cancelled        Babusapalya Cove   \n",
       "\n",
       "            destination        duration             ride_id  distance  \\\n",
       "0       Harohalli Nagar 0 days 00:00:00  RD3161218751875354     27.21   \n",
       "1  Bikasipura 1st Stage 0 days 00:01:00  RD8171514284594096     34.03   \n",
       "2     Kothaguda Terrace 0 days 00:00:00  RD9376481122237926     20.24   \n",
       "\n",
       "   ride_charge  misc_charge  total_fare payment_method  \n",
       "0       764.83        31.51      796.34     Amazon Pay  \n",
       "1       314.83        49.52      364.35          Paytm  \n",
       "2          NaN          NaN         NaN            nan  "
      ]
     },
     "metadata": {},
     "output_type": "display_data"
    }
   ],
   "source": [
    "import pandas as pd\n",
    "\n",
    "# Query to extract data\n",
    "query = \"SELECT * FROM Rides Limit 3\"\n",
    "\n",
    "# Read data into a Pandas DataFrame\n",
    "df = pd.read_sql(query, engine)\n",
    "\n",
    "# Check the extracted data\n",
    "display(df.head())\n"
   ]
  }
 ],
 "metadata": {
  "kernelspec": {
   "display_name": "Python 3",
   "language": "python",
   "name": "python3"
  },
  "language_info": {
   "codemirror_mode": {
    "name": "ipython",
    "version": 3
   },
   "file_extension": ".py",
   "mimetype": "text/x-python",
   "name": "python",
   "nbconvert_exporter": "python",
   "pygments_lexer": "ipython3",
   "version": "3.12.6"
  }
 },
 "nbformat": 4,
 "nbformat_minor": 2
}
